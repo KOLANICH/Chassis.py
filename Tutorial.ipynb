{
	"cells": 
	[		
		{
			"cell_type": "code",
			"execution_count": 1,
			"metadata": 
			{
				"collapsed": true
			},
			"outputs": [],
			"source": 
			[
				"import pandas\n",
				"from Chassis import *"
			]
		},		
		{
			"cell_type": "code",
			"execution_count": 2,
			"metadata": 
			{
				"collapsed": false
			},
			"outputs": 
			[				
				{
					"data": 
					{
						"text/html": 
						[
							"<div>\n",
							"<style scoped>\n",
							" .dataframe tbody tr th:only-of-type {\n",
							" \tvertical-align: middle;\n",
							" }\n",
							"\n",
							" .dataframe tbody tr th {\n",
							" \tvertical-align: top;\n",
							" }\n",
							"\n",
							" .dataframe thead th {\n",
							" \ttext-align: right;\n",
							" }\n",
							"<\/style>\n",
							"<table border=\"1\" class=\"dataframe\">\n",
							" <thead>\n",
							" <tr style=\"text-align: right;\">\n",
							" <th><\/th>\n",
							" <th>b<\/th>\n",
							" <th>c<\/th>\n",
							" <th>n<\/th>\n",
							" <th>s<\/th>\n",
							" <\/tr>\n",
							" <\/thead>\n",
							" <tbody>\n",
							" <tr>\n",
							" <th>0<\/th>\n",
							" <td>True<\/td>\n",
							" <td>A<\/td>\n",
							" <td>10<\/td>\n",
							" <td>1<\/td>\n",
							" <\/tr>\n",
							" <tr>\n",
							" <th>1<\/th>\n",
							" <td>False<\/td>\n",
							" <td>B<\/td>\n",
							" <td>11<\/td>\n",
							" <td>1<\/td>\n",
							" <\/tr>\n",
							" <tr>\n",
							" <th>2<\/th>\n",
							" <td>0.5<\/td>\n",
							" <td>C<\/td>\n",
							" <td>20<\/td>\n",
							" <td>1<\/td>\n",
							" <\/tr>\n",
							" <tr>\n",
							" <th>3<\/th>\n",
							" <td>0.3<\/td>\n",
							" <td>A<\/td>\n",
							" <td>42<\/td>\n",
							" <td>1<\/td>\n",
							" <\/tr>\n",
							" <\/tbody>\n",
							"<\/table>\n",
							"<\/div>"
						],
						"text/plain": 
						[
							" b\tc n s\n",
							"0 True A 10\t1\n",
							"1 False B 11\t1\n",
							"2 0.5 C\t20 1\n",
							"3 0.3 A\t42 1"
						]
					},
					"execution_count": 2,
					"metadata": {},
					"output_type": "execute_result"
				}
			],
			"source": 
			[
				"ds=pandas.DataFrame.from_records([\n",
				"\t{\"c\": \"A\", \"n\":10, \"b\": True, \"s\":1},\n",
				"\t{\"c\": \"B\", \"n\":11, \"b\": False, \"s\":1},\n",
				"\t{\"c\": \"C\", \"n\":20, \"b\": 0.5, \"s\":1},\n",
				"\t{\"c\": \"A\", \"n\":42, \"b\": 0.3, \"s\":1},\n",
				"])\n",
				"ds"
			]
		},		
		{
			"cell_type": "code",
			"execution_count": 3,
			"metadata": 
			{
				"collapsed": false
			},
			"outputs": 
			[				
				{
					"data": 
					{
						"text/html": 
						[
							"<div>\n",
							"<style scoped>\n",
							" .dataframe tbody tr th:only-of-type {\n",
							" \tvertical-align: middle;\n",
							" }\n",
							"\n",
							" .dataframe tbody tr th {\n",
							" \tvertical-align: top;\n",
							" }\n",
							"\n",
							" .dataframe thead th {\n",
							" \ttext-align: right;\n",
							" }\n",
							"<\/style>\n",
							"<table border=\"1\" class=\"dataframe\">\n",
							" <thead>\n",
							" <tr style=\"text-align: right;\">\n",
							" <th><\/th>\n",
							" <th>b<\/th>\n",
							" <th>c_A<\/th>\n",
							" <th>c_B<\/th>\n",
							" <th>c_C<\/th>\n",
							" <th>n<\/th>\n",
							" <\/tr>\n",
							" <\/thead>\n",
							" <tbody>\n",
							" <tr>\n",
							" <th>0<\/th>\n",
							" <td>1.0<\/td>\n",
							" <td>1<\/td>\n",
							" <td>0<\/td>\n",
							" <td>0<\/td>\n",
							" <td>10<\/td>\n",
							" <\/tr>\n",
							" <tr>\n",
							" <th>1<\/th>\n",
							" <td>0.0<\/td>\n",
							" <td>0<\/td>\n",
							" <td>1<\/td>\n",
							" <td>0<\/td>\n",
							" <td>11<\/td>\n",
							" <\/tr>\n",
							" <tr>\n",
							" <th>2<\/th>\n",
							" <td>0.5<\/td>\n",
							" <td>0<\/td>\n",
							" <td>0<\/td>\n",
							" <td>1<\/td>\n",
							" <td>20<\/td>\n",
							" <\/tr>\n",
							" <tr>\n",
							" <th>3<\/th>\n",
							" <td>0.3<\/td>\n",
							" <td>1<\/td>\n",
							" <td>0<\/td>\n",
							" <td>0<\/td>\n",
							" <td>42<\/td>\n",
							" <\/tr>\n",
							" <\/tbody>\n",
							"<\/table>\n",
							"<\/div>"
						],
						"text/plain": 
						[
							" b c_A\tc_B c_C n\n",
							"0 1.0 1\t 0 0 10\n",
							"1 0.0 0\t 1 0 11\n",
							"2 0.5 0\t 0 1 20\n",
							"3 0.3 1\t 0 0 42"
						]
					},
					"execution_count": 3,
					"metadata": {},
					"output_type": "execute_result"
				}
			],
			"source": 
			[
				"spec={\n",
				"\t\"c\": \"C\", #categoric\n",
				"\t\"n\": \"N\", #numerical\n",
				"\t\"b\": \"B\", #binary\n",
				"\t\"s\": \"S\", #STOP, this won't appear in the dmat\n",
				"}\n",
				"chs=Chassis(spec, ds)\n",
				"chs.pds"
			]
		},		
		{
			"cell_type": "code",
			"execution_count": 4,
			"metadata": 
			{
				"collapsed": false
			},
			"outputs": 
			[				
				{
					"data": 
					{
						"text/html": 
						[
							"<div>\n",
							"<style scoped>\n",
							" .dataframe tbody tr th:only-of-type {\n",
							" \tvertical-align: middle;\n",
							" }\n",
							"\n",
							" .dataframe tbody tr th {\n",
							" \tvertical-align: top;\n",
							" }\n",
							"\n",
							" .dataframe thead th {\n",
							" \ttext-align: right;\n",
							" }\n",
							"<\/style>\n",
							"<table border=\"1\" class=\"dataframe\">\n",
							" <thead>\n",
							" <tr style=\"text-align: right;\">\n",
							" <th><\/th>\n",
							" <th>n<\/th>\n",
							" <th>c_C<\/th>\n",
							" <th>c_A<\/th>\n",
							" <th>c_B<\/th>\n",
							" <\/tr>\n",
							" <\/thead>\n",
							" <tbody>\n",
							" <tr>\n",
							" <th>0<\/th>\n",
							" <td>10<\/td>\n",
							" <td>0<\/td>\n",
							" <td>1<\/td>\n",
							" <td>0<\/td>\n",
							" <\/tr>\n",
							" <tr>\n",
							" <th>1<\/th>\n",
							" <td>11<\/td>\n",
							" <td>0<\/td>\n",
							" <td>0<\/td>\n",
							" <td>1<\/td>\n",
							" <\/tr>\n",
							" <tr>\n",
							" <th>2<\/th>\n",
							" <td>20<\/td>\n",
							" <td>1<\/td>\n",
							" <td>0<\/td>\n",
							" <td>0<\/td>\n",
							" <\/tr>\n",
							" <tr>\n",
							" <th>3<\/th>\n",
							" <td>42<\/td>\n",
							" <td>0<\/td>\n",
							" <td>1<\/td>\n",
							" <td>0<\/td>\n",
							" <\/tr>\n",
							" <\/tbody>\n",
							"<\/table>\n",
							"<\/div>"
						],
						"text/plain": 
						[
							" n c_C\tc_A c_B\n",
							"0 10 0\t 1 0\n",
							"1 11 0\t 0 1\n",
							"2 20 1\t 0 0\n",
							"3 42 0\t 1 0"
						]
					},
					"execution_count": 4,
					"metadata": {},
					"output_type": "execute_result"
				}
			],
			"source": 
			[
				"chs.prepareCovariates(\"b\")"
			]
		},		
		{
			"cell_type": "code",
			"execution_count": 5,
			"metadata": 
			{
				"collapsed": false
			},
			"outputs": 
			[				
				{
					"data": 
					{
						"text/plain": 
						[
							"0 1.0\n",
							"1 0.0\n",
							"2 0.5\n",
							"3 0.3\n",
							"Name: b, dtype: float32"
						]
					},
					"execution_count": 5,
					"metadata": {},
					"output_type": "execute_result"
				}
			],
			"source": 
			[
				"chs.prepareResult(\"b\")"
			]
		},		
		{
			"cell_type": "code",
			"execution_count": 6,
			"metadata": 
			{
				"collapsed": false
			},
			"outputs": 
			[				
				{
					"data": 
					{
						"text/html": 
						[
							"<div>\n",
							"<style scoped>\n",
							" .dataframe tbody tr th:only-of-type {\n",
							" \tvertical-align: middle;\n",
							" }\n",
							"\n",
							" .dataframe tbody tr th {\n",
							" \tvertical-align: top;\n",
							" }\n",
							"\n",
							" .dataframe thead th {\n",
							" \ttext-align: right;\n",
							" }\n",
							"<\/style>\n",
							"<table border=\"1\" class=\"dataframe\">\n",
							" <thead>\n",
							" <tr style=\"text-align: right;\">\n",
							" <th><\/th>\n",
							" <th>n<\/th>\n",
							" <th>b<\/th>\n",
							" <\/tr>\n",
							" <\/thead>\n",
							" <tbody>\n",
							" <tr>\n",
							" <th>0<\/th>\n",
							" <td>10<\/td>\n",
							" <td>1.0<\/td>\n",
							" <\/tr>\n",
							" <tr>\n",
							" <th>1<\/th>\n",
							" <td>11<\/td>\n",
							" <td>0.0<\/td>\n",
							" <\/tr>\n",
							" <tr>\n",
							" <th>2<\/th>\n",
							" <td>20<\/td>\n",
							" <td>0.5<\/td>\n",
							" <\/tr>\n",
							" <tr>\n",
							" <th>3<\/th>\n",
							" <td>42<\/td>\n",
							" <td>0.3<\/td>\n",
							" <\/tr>\n",
							" <\/tbody>\n",
							"<\/table>\n",
							"<\/div>"
						],
						"text/plain": 
						[
							" n \tb\n",
							"0 10 1.0\n",
							"1 11 0.0\n",
							"2 20 0.5\n",
							"3 42 0.3"
						]
					},
					"execution_count": 6,
					"metadata": {},
					"output_type": "execute_result"
				}
			],
			"source": 
			[
				"chs.prepareCovariates(\"c\")"
			]
		},		
		{
			"cell_type": "code",
			"execution_count": 7,
			"metadata": 
			{
				"collapsed": false
			},
			"outputs": 
			[				
				{
					"data": 
					{
						"text/plain": 
						[
							"0 A\n",
							"1 B\n",
							"2 C\n",
							"3 A\n",
							"dtype: category\n",
							"Categories (3, object): [A, B, C]"
						]
					},
					"execution_count": 7,
					"metadata": {},
					"output_type": "execute_result"
				}
			],
			"source": 
			[
				"chs.prepareResult(\"c\")"
			]
		},		
		{
			"cell_type": "code",
			"execution_count": 8,
			"metadata": 
			{
				"collapsed": false
			},
			"outputs": 
			[				
				{
					"data": 
					{
						"text/html": 
						[
							"<div>\n",
							"<style scoped>\n",
							" .dataframe tbody tr th:only-of-type {\n",
							" \tvertical-align: middle;\n",
							" }\n",
							"\n",
							" .dataframe tbody tr th {\n",
							" \tvertical-align: top;\n",
							" }\n",
							"\n",
							" .dataframe thead th {\n",
							" \ttext-align: right;\n",
							" }\n",
							"<\/style>\n",
							"<table border=\"1\" class=\"dataframe\">\n",
							" <thead>\n",
							" <tr style=\"text-align: right;\">\n",
							" <th><\/th>\n",
							" <th>c_C<\/th>\n",
							" <th>c_A<\/th>\n",
							" <th>b<\/th>\n",
							" <th>c_B<\/th>\n",
							" <\/tr>\n",
							" <\/thead>\n",
							" <tbody>\n",
							" <tr>\n",
							" <th>0<\/th>\n",
							" <td>0<\/td>\n",
							" <td>1<\/td>\n",
							" <td>1.0<\/td>\n",
							" <td>0<\/td>\n",
							" <\/tr>\n",
							" <tr>\n",
							" <th>1<\/th>\n",
							" <td>0<\/td>\n",
							" <td>0<\/td>\n",
							" <td>0.0<\/td>\n",
							" <td>1<\/td>\n",
							" <\/tr>\n",
							" <tr>\n",
							" <th>2<\/th>\n",
							" <td>1<\/td>\n",
							" <td>0<\/td>\n",
							" <td>0.5<\/td>\n",
							" <td>0<\/td>\n",
							" <\/tr>\n",
							" <tr>\n",
							" <th>3<\/th>\n",
							" <td>0<\/td>\n",
							" <td>1<\/td>\n",
							" <td>0.3<\/td>\n",
							" <td>0<\/td>\n",
							" <\/tr>\n",
							" <\/tbody>\n",
							"<\/table>\n",
							"<\/div>"
						],
						"text/plain": 
						[
							" c_C c_A \tb c_B\n",
							"0 0 \t1 1.0 0\n",
							"1 0 \t0 0.0 1\n",
							"2 1 \t0 0.5 0\n",
							"3 0 \t1 0.3 0"
						]
					},
					"execution_count": 8,
					"metadata": {},
					"output_type": "execute_result"
				}
			],
			"source": 
			[
				"chs.prepareCovariates(\"n\")"
			]
		},		
		{
			"cell_type": "code",
			"execution_count": 9,
			"metadata": 
			{
				"collapsed": false
			},
			"outputs": 
			[				
				{
					"data": 
					{
						"text/plain": 
						[
							"0 10\n",
							"1 11\n",
							"2 20\n",
							"3 42\n",
							"Name: n, dtype: int64"
						]
					},
					"execution_count": 9,
					"metadata": {},
					"output_type": "execute_result"
				}
			],
			"source": 
			[
				"chs.prepareResult(\"n\")"
			]
		},		
		{
			"cell_type": "code",
			"execution_count": 10,
			"metadata": 
			{
				"collapsed": false
			},
			"outputs": 
			[				
				{
					"data": 
					{
						"text/html": 
						[
							"<div>\n",
							"<style scoped>\n",
							" .dataframe tbody tr th:only-of-type {\n",
							" \tvertical-align: middle;\n",
							" }\n",
							"\n",
							" .dataframe tbody tr th {\n",
							" \tvertical-align: top;\n",
							" }\n",
							"\n",
							" .dataframe thead th {\n",
							" \ttext-align: right;\n",
							" }\n",
							"<\/style>\n",
							"<table border=\"1\" class=\"dataframe\">\n",
							" <thead>\n",
							" <tr style=\"text-align: right;\">\n",
							" <th><\/th>\n",
							" <th>b<\/th>\n",
							" <th>n<\/th>\n",
							" <th>c<\/th>\n",
							" <\/tr>\n",
							" <\/thead>\n",
							" <tbody>\n",
							" <tr>\n",
							" <th>0<\/th>\n",
							" <td>1.0<\/td>\n",
							" <td>10<\/td>\n",
							" <td>A<\/td>\n",
							" <\/tr>\n",
							" <tr>\n",
							" <th>1<\/th>\n",
							" <td>0.0<\/td>\n",
							" <td>11<\/td>\n",
							" <td>B<\/td>\n",
							" <\/tr>\n",
							" <tr>\n",
							" <th>2<\/th>\n",
							" <td>0.5<\/td>\n",
							" <td>20<\/td>\n",
							" <td>C<\/td>\n",
							" <\/tr>\n",
							" <tr>\n",
							" <th>3<\/th>\n",
							" <td>0.3<\/td>\n",
							" <td>42<\/td>\n",
							" <td>A<\/td>\n",
							" <\/tr>\n",
							" <\/tbody>\n",
							"<\/table>\n",
							"<\/div>"
						],
						"text/plain": 
						[
							" b n\tc\n",
							"0 1.0 10 A\n",
							"1 0.0 11 B\n",
							"2 0.5 20 C\n",
							"3 0.3 42 A"
						]
					},
					"execution_count": 10,
					"metadata": {},
					"output_type": "execute_result"
				}
			],
			"source": 
			[
				"chs.reverse()"
			]
		}
	],
	"metadata": 
	{
		"kernelspec": 
		{
			"display_name": "Python 3",
			"language": "python",
			"name": "python3"
		},
		"language_info": 
		{
			"codemirror_mode": 
			{
				"name": "ipython",
				"version": 3
			},
			"file_extension": ".py",
			"mimetype": "text/x-python",
			"name": "python",
			"nbconvert_exporter": "python",
			"pygments_lexer": "ipython3",
			"version": "3.6.1"
		},
		"widgets": 
		{
			"state": {},
			"version": "1.1.2"
		}
	},
	"nbformat": 4,
	"nbformat_minor": 0
}